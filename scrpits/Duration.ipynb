{
 "cells": [
  {
   "cell_type": "code",
   "execution_count": null,
   "id": "49bb2076-6bd6-4412-b302-973d28b147f1",
   "metadata": {},
   "outputs": [],
   "source": [
    "import os\n",
    "import pandas as pd\n",
    "import numpy as np\n",
    "import matplotlib.pyplot as plt\n",
    "import seaborn as sns"
   ]
  },
  {
   "cell_type": "code",
   "execution_count": null,
   "id": "c254a653-9557-4c58-b7de-3c558f7e0bcd",
   "metadata": {},
   "outputs": [],
   "source": [
    "# Output paths\n",
    "output_excel_path = '/SPEI/outputs2'\n",
    "output_plot_path = '/SPEI/plots'\n",
    "os.makedirs(output_plot_path, exist_ok=True)"
   ]
  },
  {
   "cell_type": "code",
   "execution_count": null,
   "id": "041d2827-c5c6-43cf-ac4b-36a1fc84571f",
   "metadata": {},
   "outputs": [],
   "source": [
    "# Define drought categories and scenarios\n",
    "time_steps = [\"01\", \"06\", \"12\"]\n",
    "drought_categories = [\"Moderate\", \"Severe\", \"Extreme\", \"Total\"]\n",
    "scenarios = [\"SSP1-2.6\", \"SSP2-4.5\", \"SSP3-7.0\", \"SSP5-8.5\"]\n",
    "\n",
    "# Define font sizes\n",
    "title_fontsize = 20\n",
    "label_fontsize = 18\n",
    "tick_fontsize = 18"
   ]
  },
  {
   "cell_type": "code",
   "execution_count": null,
   "id": "3ec61db1-b80d-416b-9e4f-1b5977160cd3",
   "metadata": {},
   "outputs": [],
   "source": [
    "# Initialize a figure for boxplots\n",
    "fig, axes = plt.subplots(len(drought_categories), len(time_steps), figsize=(20, 20), sharey=False)"
   ]
  },
  {
   "cell_type": "code",
   "execution_count": null,
   "id": "e4fe3878-69e0-4a97-8775-e7368afcb7dd",
   "metadata": {},
   "outputs": [],
   "source": [
    "# Define ranges for vertical axes\n",
    "duration_axis_ranges = {\n",
    "    \"Moderate\": (0, 100),\n",
    "    \"Severe\": (0, 120),\n",
    "    \"Extreme\": (0, 24),\n",
    "    \"Total\": (0, 200)\n",
    "}"
   ]
  },
  {
   "cell_type": "code",
   "execution_count": null,
   "id": "790e47d5-4b3e-433a-b4ff-236c03f04a13",
   "metadata": {},
   "outputs": [],
   "source": [
    "for col_idx, time_step in enumerate(time_steps):\n",
    "    # Load the corresponding Excel file\n",
    "    file_path = os.path.join(output_excel_path, f\"SPEI_{time_step}.xlsx\")\n",
    "\n",
    "    for row_idx, category in enumerate(drought_categories):\n",
    "        print(f\"Processing category {category} for time step {time_step}\")\n",
    "        ax = axes[row_idx, col_idx]\n",
    "\n",
    "        # Initialize a DataFrame to hold data for all scenarios\n",
    "        combined_data = pd.DataFrame()\n",
    "\n",
    "        # Read data for each scenario and append to combined_data\n",
    "        for scenario in scenarios:\n",
    "            data = pd.read_excel(file_path, sheet_name=scenario)\n",
    "            durations = data[f\"{category}_Duration\"]\n",
    "\n",
    "            scenario_data = pd.DataFrame({\n",
    "                \"Duration\": durations,\n",
    "                \"Scenario\": scenario\n",
    "            })\n",
    "            combined_data = pd.concat([combined_data, scenario_data], ignore_index=True)\n",
    "\n",
    "        # Create boxplots for durations\n",
    "        sns.boxplot(\n",
    "            x=\"Scenario\", y=\"Duration\", data=combined_data, ax=ax, showmeans=False,\n",
    "            boxprops={\"facecolor\": \"silver\", \"edgecolor\": \"black\", \"linewidth\": 1},\n",
    "            whiskerprops={\"color\": \"black\"}, capprops={\"color\": \"black\"},\n",
    "            medianprops={\"color\": \"darkblue\", \"linewidth\": 1},\n",
    "            widths=0.6\n",
    "        )\n",
    "\n",
    "        # Set plot title and labels\n",
    "        if row_idx == 0:\n",
    "            ax.set_title(f\"Time Step: {time_step}\", fontsize=title_fontsize)\n",
    "        if col_idx == 0:\n",
    "            ax.set_ylabel(f\"{category} Drought Duration\", fontsize=label_fontsize)\n",
    "        if row_idx == len(drought_categories) - 1:\n",
    "            ax.set_xlabel(\"Scenario\", fontsize=label_fontsize)\n",
    "\n",
    "        # Set vertical axis range\n",
    "        ax.set_ylim(duration_axis_ranges[category])\n",
    "\n",
    "        # Set tick parameters\n",
    "        ax.tick_params(axis='both', labelsize=tick_fontsize)\n",
    "        ax.set_xticks(range(len(scenarios)))\n",
    "        ax.set_xticklabels(scenarios, rotation=45, fontsize=tick_fontsize)"
   ]
  },
  {
   "cell_type": "code",
   "execution_count": null,
   "id": "b7718f3d-b3bf-4769-acd8-8dd8a0a508f7",
   "metadata": {},
   "outputs": [],
   "source": [
    "# Adjust layout\n",
    "plt.tight_layout(rect=[0, 0, 1, 0.95])\n",
    "\n",
    "# Save and show the figure\n",
    "final_plot_path = os.path.join(output_plot_path, \"Drought_Duration_Boxplots.png\")\n",
    "plt.savefig(final_plot_path, dpi=350, bbox_inches=\"tight\")\n",
    "plt.show()\n",
    "\n",
    "print(\"Boxplots saved at:\", final_plot_path)"
   ]
  }
 ],
 "metadata": {
  "kernelspec": {
   "display_name": "Python 3 (ipykernel)",
   "language": "python",
   "name": "python3"
  },
  "language_info": {
   "codemirror_mode": {
    "name": "ipython",
    "version": 3
   },
   "file_extension": ".py",
   "mimetype": "text/x-python",
   "name": "python",
   "nbconvert_exporter": "python",
   "pygments_lexer": "ipython3",
   "version": "3.9.18"
  }
 },
 "nbformat": 4,
 "nbformat_minor": 5
}
