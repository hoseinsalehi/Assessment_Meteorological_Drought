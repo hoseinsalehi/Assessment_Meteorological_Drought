{
 "cells": [
  {
   "cell_type": "code",
   "execution_count": null,
   "id": "f7bfcf77-64ad-4d72-adf0-71c35958e639",
   "metadata": {},
   "outputs": [],
   "source": [
    "import os\n",
    "import pandas as pd\n",
    "import numpy as np\n",
    "import matplotlib.pyplot as plt\n",
    "import seaborn as sns\n",
    "plt.rcParams[\"font.family\"] = \"Times New Roman\""
   ]
  },
  {
   "cell_type": "code",
   "execution_count": null,
   "id": "524ebe7b-411e-4a79-9141-db8d160aaf81",
   "metadata": {},
   "outputs": [],
   "source": [
    "stations_dir = \"/stations_data/\"\n",
    "gcm_pr_dir = \"/GCM_PR_Timeseries\"\n",
    "gcm_tm_dir = \"/GCM_TM_Timeseries\"\n",
    "stations_file = \"/stations_data/stations_coordinates.csv\"\n",
    "\n",
    "stations_df = pd.read_csv(stations_file)\n",
    "\n",
    "obs_pr_data = []\n",
    "gcm_pr_data = []\n",
    "obs_tm_data = []\n",
    "gcm_tm_data = []"
   ]
  },
  {
   "cell_type": "code",
   "execution_count": null,
   "id": "5d31cd75-7d72-4bb8-90d7-8f8138073b7c",
   "metadata": {},
   "outputs": [],
   "source": [
    "for index, row in stations_df.iterrows():\n",
    "    station_name = row[\"Station\"]\n",
    "\n",
    "    obs_file = os.path.join(stations_dir, f\"{station_name}_monthly.csv\")\n",
    "    gcm_pr_file = os.path.join(gcm_pr_dir, f\"{station_name}_GCM_PR.csv\")\n",
    "    gcm_tm_file = os.path.join(gcm_tm_dir, f\"{station_name}_GCM_PR.csv\")\n",
    "\n",
    "    if os.path.exists(obs_file) and os.path.exists(gcm_pr_file) and os.path.exists(gcm_tm_file):\n",
    "        obs_data = pd.read_csv(obs_file, usecols=[\"Precip\", \"AvgTemp\"]).dropna()\n",
    "        gcm_pr = pd.read_csv(gcm_pr_file, usecols=[\"Precipitation\"]).dropna().values.flatten()\n",
    "        gcm_tm = pd.read_csv(gcm_tm_file, usecols=[\"Precipitation\"]).dropna().values.flatten()\n",
    "\n",
    "        min_length = min(len(obs_data), len(gcm_pr), len(gcm_tm))\n",
    "        obs_data = obs_data.iloc[:min_length]\n",
    "        gcm_pr = gcm_pr[:min_length]\n",
    "        gcm_tm = gcm_tm[:min_length]\n",
    "\n",
    "        obs_pr_data.extend(obs_data[\"Precip\"].values)\n",
    "        gcm_pr_data.extend(gcm_pr)\n",
    "        obs_tm_data.extend(obs_data[\"AvgTemp\"].values)\n",
    "        gcm_tm_data.extend(gcm_tm)"
   ]
  },
  {
   "cell_type": "code",
   "execution_count": null,
   "id": "0d53bb4c-841d-432a-9976-d8d65382aff7",
   "metadata": {},
   "outputs": [],
   "source": [
    "obs_pr_data = np.array(obs_pr_data)\n",
    "gcm_pr_data = np.array(gcm_pr_data)\n",
    "obs_tm_data = np.array(obs_tm_data)\n",
    "gcm_tm_data = np.array(gcm_tm_data)\n",
    "\n",
    "mean_obs_pr = np.mean(obs_pr_data)\n",
    "mean_gcm_pr = np.mean(gcm_pr_data)\n",
    "mean_obs_tm = np.mean(obs_tm_data)\n",
    "mean_gcm_tm = np.mean(gcm_tm_data)\n",
    "\n",
    "pr_5_obs, pr_95_obs = np.percentile(obs_pr_data, [5, 95])\n",
    "pr_5_gcm, pr_95_gcm = np.percentile(gcm_pr_data, [5, 95])\n",
    "tm_5_obs, tm_95_obs = np.percentile(obs_tm_data, [5, 95])\n",
    "tm_5_gcm, tm_95_gcm = np.percentile(gcm_tm_data, [5, 95])"
   ]
  },
  {
   "cell_type": "code",
   "execution_count": null,
   "id": "6f70eb95-9391-4a41-865e-a53084e3a6ee",
   "metadata": {},
   "outputs": [],
   "source": [
    "fig, axes = plt.subplots(1, 2, figsize=(15, 7))\n",
    "sns.kdeplot(obs_pr_data, label=\"Observed Data\", color=\"skyblue\", linewidth=1.5, shade=True, alpha=0.6, ax=axes[0])\n",
    "sns.kdeplot(gcm_pr_data, label=\"GCM Data\", color=\"salmon\", linewidth=1.5, linestyle=\"--\", shade=True, alpha=0.5, ax=axes[0])\n",
    "axes[0].axvline(mean_obs_pr, color=\"blue\", linestyle=\"--\", linewidth=2)\n",
    "axes[0].axvline(mean_gcm_pr, color=\"red\", linestyle=\"--\", linewidth=2)\n",
    "axes[0].axvline(pr_5_obs, color=\"blue\", linestyle=\":\", linewidth=2, alpha=0.4)\n",
    "axes[0].axvline(pr_95_obs, color=\"blue\", linestyle=\":\", linewidth=2, alpha=0.9)\n",
    "axes[0].axvline(pr_5_gcm, color=\"red\", linestyle=\":\", linewidth=2, alpha=0.4)\n",
    "axes[0].axvline(pr_95_gcm, color=\"red\", linestyle=\":\", linewidth=2, alpha=0.9)\n",
    "axes[0].set_xlabel(\"Precipitation (mm/month)\", fontsize=14, fontweight=\"bold\")\n",
    "axes[0].set_ylabel(\"Density\", fontsize=14, fontweight=\"bold\")\n",
    "axes[0].set_title(\"Precipitation PDF: Observed vs. GCM\", fontsize=16, fontweight=\"bold\")\n",
    "axes[0].grid(True, linestyle=\"--\", linewidth=0.7, alpha=0.5)"
   ]
  },
  {
   "cell_type": "code",
   "execution_count": null,
   "id": "c09474ad-1dcf-468a-90dc-e5596c751f92",
   "metadata": {},
   "outputs": [],
   "source": [
    "sns.kdeplot(obs_tm_data, label=\"Observed Data\", color=\"skyblue\", linewidth=1.5, shade=True, alpha=0.6, ax=axes[1])\n",
    "sns.kdeplot(gcm_tm_data, label=\"CMIP6 Data\", color=\"salmon\", linewidth=1.5, linestyle=\"--\", shade=True, alpha=0.5, ax=axes[1])\n",
    "axes[1].axvline(mean_obs_tm, color=\"blue\", linestyle=\"--\", linewidth=2)\n",
    "axes[1].axvline(mean_gcm_tm, color=\"red\", linestyle=\"--\", linewidth=2)\n",
    "axes[1].axvline(tm_5_obs, color=\"blue\", linestyle=\":\", linewidth=2, alpha=0.4)\n",
    "axes[1].axvline(tm_95_obs, color=\"blue\", linestyle=\":\", linewidth=2, alpha=0.9)\n",
    "axes[1].axvline(tm_5_gcm, color=\"red\", linestyle=\":\", linewidth=2, alpha=0.4)\n",
    "axes[1].axvline(tm_95_gcm, color=\"red\", linestyle=\":\", linewidth=2, alpha=0.9)\n",
    "axes[1].set_xlabel(\"Temperature (°C)\", fontsize=14, fontweight=\"bold\")\n",
    "axes[1].set_ylabel(\"Density\", fontsize=14, fontweight=\"bold\")\n",
    "axes[1].set_title(\"Temperature PDF: Observed vs. GCM\", fontsize=16, fontweight=\"bold\")\n",
    "axes[1].grid(True, linestyle=\"--\", linewidth=0.7, alpha=0.5)"
   ]
  },
  {
   "cell_type": "code",
   "execution_count": null,
   "id": "630a7ddb-e85c-4aea-b91c-b726eee82925",
   "metadata": {},
   "outputs": [],
   "source": [
    "fig.legend([\"Observed Data\", \"CMIP6 Data\", \"Mean Observed\", \"Mean CMIP6\", \"5% Observed\", \"95% Observed\", \"5% CMIP6\", \"95% CMIP6\"], loc='lower center', ncol=4, fontsize=12)\n",
    "fig.subplots_adjust(bottom=0.17)\n",
    "\n",
    "output_path = \"/Users/hosseinsalehi/Downloads/Historical/NetCDF/precip_temp_pdf_comparison.png\"\n",
    "plt.savefig(output_path, dpi=300, bbox_inches='tight')\n",
    "plt.show()"
   ]
  }
 ],
 "metadata": {
  "kernelspec": {
   "display_name": "Python 3 (ipykernel)",
   "language": "python",
   "name": "python3"
  },
  "language_info": {
   "codemirror_mode": {
    "name": "ipython",
    "version": 3
   },
   "file_extension": ".py",
   "mimetype": "text/x-python",
   "name": "python",
   "nbconvert_exporter": "python",
   "pygments_lexer": "ipython3",
   "version": "3.9.18"
  }
 },
 "nbformat": 4,
 "nbformat_minor": 5
}
